{
 "metadata": {
  "language_info": {
   "codemirror_mode": {
    "name": "ipython",
    "version": 3
   },
   "file_extension": ".py",
   "mimetype": "text/x-python",
   "name": "python",
   "nbconvert_exporter": "python",
   "pygments_lexer": "ipython3",
   "version": "3.8.8"
  },
  "orig_nbformat": 4,
  "kernelspec": {
   "name": "python3",
   "display_name": "Python 3.8.8 64-bit ('base': conda)"
  },
  "interpreter": {
   "hash": "66e4a4b7c121db4243309d1eb7f3fba70ad006b305f754897095e92fca8ac47b"
  }
 },
 "nbformat": 4,
 "nbformat_minor": 2,
 "cells": [
  {
   "cell_type": "code",
   "execution_count": 2,
   "source": [
    "from selenium import webdriver \r\n",
    "from selenium.webdriver.common.by import By\r\n",
    "from selenium.webdriver.support.ui import WebDriverWait\r\n",
    "from selenium.webdriver.support import expected_conditions as EC\r\n",
    "from selenium.common.exceptions import NoSuchElementException\r\n",
    "from selenium.webdriver.support.ui import WebDriverWait\r\n",
    "import time\r\n",
    "import pandas as pd\r\n",
    "from selenium.webdriver.chrome.options import Options\r\n",
    "\r\n",
    "pd.set_option('display.max_rows', 100)\r\n",
    "pd.set_option('display.max_columns', None)\r\n",
    "pd.set_option('display.width', 1000)\r\n",
    "pd.set_option('display.colheader_justify', 'center')"
   ],
   "outputs": [],
   "metadata": {}
  },
  {
   "cell_type": "code",
   "execution_count": 3,
   "source": [
    "df = pd.DataFrame(columns = ['Name', 'Total Bedroom', 'Total Bathroom', 'Apart Size', 'Max Capacity', 'Max Watt', 'Address', 'Swim Pool', 'Rating', 'Total Review', 'Furnish Type', 'Price'])\r\n",
    "idx = 1"
   ],
   "outputs": [],
   "metadata": {}
  },
  {
   "cell_type": "code",
   "execution_count": 85,
   "source": [
    "from selenium.webdriver.common.keys import Keys\r\n",
    "\r\n",
    "def get_apartment(num_jobs):\r\n",
    "    # driver.get(\"https://www.travelio.com/search?searchType=monthly&destinationCategory=City&destinationUrlName=&destinationPlaceId=&destinationCountryId=ID&destinationId=544a05f190e50d6a3d000001&nights=31&flexible=1&destination=Jakarta&checkIn=13-08-2021&checkOut=13-09-2021&months=1&cbFlexible=on&unitType=3%2C2%2C1%2Cstudio&propTypeId=&sellType=&bottomPrice=1280000&upperPrice=104400000&hotelName=&areaId=&buildingId=&facilityId=&badge=&instant=&provider=all&sortBy=&sortOrder=\")\r\n",
    "    # time.sleep(3)\r\n",
    "    # driver.maximize_window()\r\n",
    "    \r\n",
    "    body = driver.find_element_by_tag_name('body')\r\n",
    "    global idx\r\n",
    "    driver.implicitly_wait(10)\r\n",
    "\r\n",
    "    while True:\r\n",
    "        # if(idx > num_jobs):\r\n",
    "        #     break\r\n",
    "    \r\n",
    "        # Total number of apartment loaded in the website\r\n",
    "        time.sleep(2)\r\n",
    "        apartments = driver.find_elements_by_xpath('//div[@id=\"property-box-wrapper\"]//div[@class=\"property-outer-box col-xs-12  completed\"]')\r\n",
    "        length = len(apartments)\r\n",
    "  \r\n",
    "        if(idx > length):    \r\n",
    "            last_height = driver.execute_script(\"return document.body.scrollHeight\")\r\n",
    "            body.send_keys(Keys.END)\r\n",
    "            time.sleep(3)\r\n",
    "            new_height = driver.execute_script(\"return document.body.scrollHeight\")           \r\n",
    "            if(new_height == last_height):\r\n",
    "                break\r\n",
    "            else:\r\n",
    "                last_height = new_height\r\n",
    "\r\n",
    "        apartment = driver.find_element_by_xpath('//div[@id=\"property-box-wrapper\"]//div[@class=\"property-outer-box col-xs-12  completed\"]['+str(idx)+']')\r\n",
    "        apartmentID = apartment.get_attribute('id')\r\n",
    "        print(\"test\")\r\n",
    "        # Obtain apartment details: total bedroom, total bathroom, total size, total rating, total furnish_type\r\n",
    "        name = driver.find_element_by_xpath('//*[@id=\"' + apartmentID +'\"]//div[@class=\"property-detail-name\"]').text\r\n",
    "        no_bedroom = driver.find_element_by_xpath('//*[@id=\"' + apartmentID +'\"]//div[@class=\"property-detail-info\"]//span[2]').text\r\n",
    "        no_bathroom = driver.find_element_by_xpath('//*[@id=\"' + apartmentID +'\"]//div[@class=\"property-detail-info\"]//span[3]').text\r\n",
    "        size = driver.find_element_by_xpath('//*[@id=\"' + apartmentID +'\"]//div[@class=\"property-detail-info\"]//span[4]').text\r\n",
    "        rating = driver.find_element_by_xpath('//*[@id=\"' + apartmentID +'\"]//div[@class=\"property-detail-info\"]//span[5]').text\r\n",
    "        furnish_type= driver.find_element_by_xpath('//*[@id=\"' + apartmentID +'\"]//div[@class=\"property-detail-info\"]//span[5]').text\r\n",
    "        price = driver.find_element_by_xpath('//*[@id=\"' + apartmentID +'\"]//div[@class=\"price\"]').text\r\n",
    "\r\n",
    "        print(f\"Apartment #{idx}\")\r\n",
    "        # print(\"Name: {}\".format(name))\r\n",
    "        # print(\"Total Bedroom: {}\".format(no_bedroom))\r\n",
    "        # print(\"Total Bathroom : {}\".format(no_bathroom))\r\n",
    "        # print(\"Apart Size: {}\".format(size))\r\n",
    "        # print(\"Rating: {}\".format(rating))\r\n",
    "        # print(\"Furnish Type: {}\".format(furnish_type))\r\n",
    "        # print(\"Price: {}\".format(price))\r\n",
    "\r\n",
    "        # Switch to New tab\r\n",
    "        apartment.click()\r\n",
    "        driver.switch_to.window(driver.window_handles[1])\r\n",
    "        \r\n",
    "        # CLose the Notification Pop-up\r\n",
    "        try:\r\n",
    "            element = WebDriverWait(driver, 10).until(\r\n",
    "                EC.presence_of_element_located((By.XPATH, '//div[@class=\"close-button\"]'))         \r\n",
    "            )\r\n",
    "            element.click()\r\n",
    "        except:\r\n",
    "            break\r\n",
    "\r\n",
    "                \r\n",
    "        time.sleep(2)\r\n",
    "        # Obtain the total number of review\r\n",
    "        if(rating != 'New'):\r\n",
    "            try:\r\n",
    "                no_review = driver.find_element_by_xpath('//a[@id=\"property-rate-base\"]//span').text\r\n",
    "            except NoSuchElementException:\r\n",
    "                no_review = -1   \r\n",
    "        else:\r\n",
    "            no_review = -1\r\n",
    "\r\n",
    "        # Obtain the Apartment Address\r\n",
    "\r\n",
    "        try:\r\n",
    "            address = WebDriverWait(driver, 7).until(\r\n",
    "                EC.presence_of_element_located((By.XPATH, '//div[@id=\"hotel-address\"]//span[@itemprop=\"address\"]'))   \r\n",
    "            )\r\n",
    "            # address = driver.find_element_by_xpath('//div[@id=\"hotel-address\"]//span[@itemprop=\"address\"]').text   \r\n",
    "        except NoSuchElementException:\r\n",
    "            address = -1\r\n",
    "        try:\r\n",
    "            max_capacity = driver.find_element_by_xpath('//div[@id=\"room-capacity-info\"]').text\r\n",
    "        except NoSuchElementException:\r\n",
    "            max_capacity = -1\r\n",
    "        try:\r\n",
    "            max_watt = driver.find_element_by_xpath('(//div[@id=\"room-capacity-info\"])[2]').text\r\n",
    "        except NoSuchElementException:\r\n",
    "            max_watt = -1\r\n",
    "        try:\r\n",
    "           driver.find_element_by_xpath(\"//div[@class='hotel-info-facility-name' and ./text()='Swimming Pool']\").text\r\n",
    "           swim_pool = 1\r\n",
    "        except NoSuchElementException:\r\n",
    "            swim_pool = -1\r\n",
    "\r\n",
    "        # print(\"Total Review: {}\".format(no_review))\r\n",
    "        # print(\"Address: {}\".format(address))\r\n",
    "        # print(\"Max_capacity: {}\".format(max_capacity))\r\n",
    "        # print(\"Max_Watt: {}\".format(max_watt))\r\n",
    "        # print(\"Swim Pool: {}\".format(swim_pool))\r\n",
    "        # print(\"\\n\")\r\n",
    "        \r\n",
    "        # Switch to new tab\r\n",
    "        driver.close()\r\n",
    "        driver.switch_to.window(driver.window_handles[0])\r\n",
    "        \r\n",
    "        new_row = { \"Name\" : name,\r\n",
    "                    \"Total Bedroom\" : no_bedroom,\r\n",
    "                    \"Total Bathroom\" : no_bathroom,\r\n",
    "                    \"Apart Size\"  : size,\r\n",
    "                    \"Max Capacity\" : max_capacity,\r\n",
    "                    \"Max Watt\" : max_watt,\r\n",
    "                    \"Address\" : address,\r\n",
    "                    \"Swim Pool\" : swim_pool,\r\n",
    "                    \"Rating\" : rating,\r\n",
    "                    \"Total Review\" : no_review,\r\n",
    "                    \"Furnish Type\" : furnish_type,\r\n",
    "                    \"Price\" : price}\r\n",
    "        \r\n",
    "        global df\r\n",
    "        idx+=1\r\n",
    "        df = df.append(new_row, ignore_index = True)\r\n",
    "    print(\"Number of jobs executed: {}/{}\".format(len(df), num_jobs))"
   ],
   "outputs": [],
   "metadata": {}
  },
  {
   "cell_type": "code",
   "execution_count": null,
   "source": [
    "PATH = \"C:\\Program Files (x86)\\chromedriver.exe\"\r\n",
    "# driver = webdriver.Chrome(PATH)\r\n",
    "opt = Options()\r\n",
    "opt.add_experimental_option(\"debuggerAddress\", \"localhost:8989\")\r\n",
    "driver = webdriver.Chrome(executable_path=PATH, options=opt)\r\n",
    "\r\n",
    "get_apartment(3000)\r\n",
    "\r\n",
    "# previous_height = driver.execute_script('return document.body.scrollHeight')\r\n",
    "\r\n",
    "# while True:\r\n",
    "#     driver.execute_script('window.scrollTo(0, document.body.scrollHeight);')\r\n",
    "\r\n",
    "#     time.sleep(3)\r\n",
    "\r\n",
    "#     new_height = driver.execute_script('return document.body.scrollHeight')\r\n",
    "#     if new_height == previous_height:\r\n",
    "#         break\r\n",
    "#     previous_height = new_height"
   ],
   "outputs": [],
   "metadata": {}
  },
  {
   "cell_type": "code",
   "execution_count": 102,
   "source": [
    "df[df['Address'] == ''].index"
   ],
   "outputs": [
    {
     "output_type": "execute_result",
     "data": {
      "text/plain": [
       "Int64Index([39, 83, 130, 155, 324, 327, 331, 335, 337, 348, 357, 361, 366, 440, 446, 544, 545, 590, 591, 593, 619, 624, 625, 626, 635, 636, 637, 722, 740, 742, 745, 747, 772], dtype='int64')"
      ]
     },
     "metadata": {},
     "execution_count": 102
    }
   ],
   "metadata": {}
  },
  {
   "cell_type": "code",
   "execution_count": 94,
   "source": [
    "df.iloc[335]['Address']"
   ],
   "outputs": [
    {
     "output_type": "execute_result",
     "data": {
      "text/plain": [
       "''"
      ]
     },
     "metadata": {},
     "execution_count": 94
    }
   ],
   "metadata": {}
  },
  {
   "cell_type": "code",
   "execution_count": 103,
   "source": [
    "# len(df)\r\n",
    "print(idx)"
   ],
   "outputs": [
    {
     "output_type": "stream",
     "name": "stdout",
     "text": [
      "64\n"
     ]
    }
   ],
   "metadata": {}
  },
  {
   "cell_type": "code",
   "execution_count": 81,
   "source": [
    "df.to_csv('travelio.csv', index = True)"
   ],
   "outputs": [],
   "metadata": {}
  },
  {
   "cell_type": "markdown",
   "source": [],
   "metadata": {}
  }
 ]
}